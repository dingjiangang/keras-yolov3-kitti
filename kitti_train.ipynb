{
 "cells": [
  {
   "cell_type": "code",
   "execution_count": 27,
   "metadata": {},
   "outputs": [
    {
     "name": "stdout",
     "output_type": "stream",
     "text": [
      "000000.\n",
      "data_object_image_2\\testing\\image_2\\000000.png\n"
     ]
    }
   ],
   "source": [
    "import glob\n",
    "lable_list = glob.glob('data_object_label_2/training/label_2/*')\n",
    "print (lable_list[0][37:44])\n",
    "imgfilename=\"data_object_image_2\\\\testing\\image_2\\\\\"+lable_list[0][37:44]+\"png\"\n",
    "print (imgfilename)"
   ]
  },
  {
   "cell_type": "code",
   "execution_count": 4,
   "metadata": {},
   "outputs": [],
   "source": [
    "import glob\n",
    "label_list = glob.glob('data_object_label_2/training/label_2/*')\n",
    "label_result=[]\n",
    "type_list=[]\n",
    "for label in label_list:\n",
    "    bbox=[]\n",
    "    with open(label) as r_label:\n",
    "        for each_line in r_label:\n",
    "            labeldata = each_line.strip().split(' ')\n",
    "            if labeldata[0] in ['Truck','Van','Tram']: # 合并汽车类\n",
    "                labeldata[0] = labeldata[0].replace(labeldata[0],'Car')\n",
    "            if labeldata[0] == 'Person_sitting': # 合并行人类\n",
    "                labeldata[0] = labeldata[0].replace(labeldata[0],'Pedestrian')\n",
    "            if labeldata[0] == 'DontCare': # 忽略Dontcare类\n",
    "                continue\n",
    "            if labeldata[0] == 'Misc': # 忽略Misc类\n",
    "                continue\n",
    "            if labeldata[0] not in type_list:\n",
    "                type_list.append(labeldata[0])\n",
    "            bbox_item=[type_list.index(labeldata[0]),int(float(labeldata[4])),int(float(labeldata[5])),int(float(labeldata[6])),\n",
    "                       int(float(labeldata[7]))]\n",
    "            bbox.append(bbox_item)\n",
    "    imgfilename=\"data_object_image_2/training/image_2/\"+label[37:44]+\"png\"\n",
    "    strline=imgfilename\n",
    "    for box in bbox:\n",
    "        strbox=\" \"+str(box[1])+\",\"+str(box[2])+\",\"+str(box[3])+\",\"+str(box[4])+\",\"+str(box[0])\n",
    "        strline=strline+strbox\n",
    "    label_result.append(strline)"
   ]
  },
  {
   "cell_type": "code",
   "execution_count": 5,
   "metadata": {},
   "outputs": [
    {
     "name": "stdout",
     "output_type": "stream",
     "text": [
      "data_object_image_2/training/image_2/007000.png 0,220,292,374,1 730,184,929,322,1 308,181,458,279,1 456,182,514,227,1 561,175,572,202,2 573,175,584,201,2 505,183,541,208,1 634,177,655,194,1 658,174,719,224,1\n",
      "['Pedestrian', 'Car', 'Cyclist']\n"
     ]
    }
   ],
   "source": [
    "print (label_result[7000])\n",
    "print (type_list)"
   ]
  },
  {
   "cell_type": "code",
   "execution_count": 6,
   "metadata": {},
   "outputs": [],
   "source": [
    "try:\n",
    "    outputfilename=\"train.txt\"\n",
    "    with open(outputfilename,'w+') as w_output: # w+是打开原文件将内容删除，另写新内容进去\n",
    "        for line in label_result:\n",
    "            w_output.write(line+\"\\n\")\n",
    "        \n",
    "except IOError as ioerr:\n",
    "    print('File error:'+str(ioerr))\n",
    "        "
   ]
  },
  {
   "cell_type": "code",
   "execution_count": null,
   "metadata": {},
   "outputs": [],
   "source": []
  }
 ],
 "metadata": {
  "kernelspec": {
   "display_name": "Python 3",
   "language": "python",
   "name": "python3"
  },
  "language_info": {
   "codemirror_mode": {
    "name": "ipython",
    "version": 3
   },
   "file_extension": ".py",
   "mimetype": "text/x-python",
   "name": "python",
   "nbconvert_exporter": "python",
   "pygments_lexer": "ipython3",
   "version": "3.6.5"
  }
 },
 "nbformat": 4,
 "nbformat_minor": 2
}
